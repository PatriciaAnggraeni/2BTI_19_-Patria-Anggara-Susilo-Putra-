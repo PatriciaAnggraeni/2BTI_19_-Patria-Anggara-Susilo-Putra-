{
  "nbformat": 4,
  "nbformat_minor": 0,
  "metadata": {
    "colab": {
      "provenance": [],
      "authorship_tag": "ABX9TyP9oOavA15eIOdZc5zM+llC",
      "include_colab_link": true
    },
    "kernelspec": {
      "name": "python3",
      "display_name": "Python 3"
    },
    "language_info": {
      "name": "python"
    }
  },
  "cells": [
    {
      "cell_type": "markdown",
      "metadata": {
        "id": "view-in-github",
        "colab_type": "text"
      },
      "source": [
        "<a href=\"https://colab.research.google.com/github/NightYara/2BTI_19_-Patria-Anggara-Susilo-Putra-/blob/main/TugasJobSheet.ipynb\" target=\"_parent\"><img src=\"https://colab.research.google.com/assets/colab-badge.svg\" alt=\"Open In Colab\"/></a>"
      ]
    },
    {
      "cell_type": "code",
      "execution_count": 1,
      "metadata": {
        "colab": {
          "base_uri": "https://localhost:8080/"
        },
        "id": "hWJUt7vnlt4D",
        "outputId": "bb26e83c-66c3-4722-9d61-a78f9ce9d486"
      },
      "outputs": [
        {
          "output_type": "stream",
          "name": "stdout",
          "text": [
            "Path found: ['A', 'B', 'D']\n"
          ]
        },
        {
          "output_type": "execute_result",
          "data": {
            "text/plain": [
              "['A', 'B', 'D']"
            ]
          },
          "metadata": {},
          "execution_count": 1
        }
      ],
      "source": [
        "class Graph:\n",
        "\n",
        "  def __init__(self, adjacency_list):\n",
        "      self.adjacency_list = adjacency_list\n",
        "\n",
        "  def get_neighbors(self, v):\n",
        "      return self.adjacency_list[v]\n",
        "\n",
        "  def h(self, n):\n",
        "      H = {\n",
        "        'A': 1,\n",
        "        'B': 1,\n",
        "        'C': 1,\n",
        "        'D': 1\n",
        "      }\n",
        "\n",
        "      return H[n]\n",
        "\n",
        "  def a_star_algorithm(self, start_node, stop_node):\n",
        "\n",
        "      open_list = set([start_node])\n",
        "      closed_list = set([])\n",
        "\n",
        "      g = {}\n",
        "\n",
        "      g[start_node] = 0\n",
        "\n",
        "      parents = {}\n",
        "      parents[start_node] = start_node\n",
        "\n",
        "      while len(open_list) > 0:\n",
        "          n = None\n",
        "\n",
        "          for v in open_list:\n",
        "              if n == None or g[v] + self.h(v) < g[n] + self.h(n):\n",
        "                  n = v;\n",
        "\n",
        "          if n == None:\n",
        "              print('Path does not exist!')\n",
        "              return None\n",
        "\n",
        "          if n == stop_node:\n",
        "              reconst_path = []\n",
        "\n",
        "              while parents[n] != n:\n",
        "                  reconst_path.append(n)\n",
        "                  n = parents[n]\n",
        "\n",
        "              reconst_path.append(start_node)\n",
        "\n",
        "              reconst_path.reverse()\n",
        "\n",
        "              print('Path found: {}'.format(reconst_path))\n",
        "              return reconst_path\n",
        "\n",
        "          for (m, weight) in self.get_neighbors(n):\n",
        "\n",
        "              if m not in open_list and m not in closed_list:\n",
        "                  open_list.add(m)\n",
        "                  parents[m] = n\n",
        "                  g[m] = g[n] + weight\n",
        "\n",
        "              else:\n",
        "                if g[m] > g[n] + weight:\n",
        "                    g[m] = g[n] + weight\n",
        "                    parents[m] = n\n",
        "\n",
        "                    if m in closed_list:\n",
        "                        closed_list.remove(m)\n",
        "                        open_list.add(m)\n",
        "\n",
        "          open_list.remove(n)\n",
        "          closed_list.add(n)\n",
        "\n",
        "      print('Path does not exist!')\n",
        "      return None\n",
        "\n",
        "adjacency_list = {\n",
        "    'A': [('B', 1), ('C', 3), ('D', 7)],\n",
        "    'B': [('D', 5)],\n",
        "    'C':  [('D', 12)]\n",
        "}\n",
        "graph1 = Graph(adjacency_list)\n",
        "graph1.a_star_algorithm('A', 'D')"
      ]
    },
    {
      "cell_type": "code",
      "source": [
        "DAG = {\n",
        "    'A' : {'C' : 4, 'G' : 9},\n",
        "    'B' : {'E' : 6},\n",
        "    'C' : {'D' : 6, 'H' : 12},\n",
        "    'D' : {'E' : 7},\n",
        "    'H' : {'F' : 15},\n",
        "    'E' : {'F' : 8},\n",
        "    'F' : {'B' : 5}\n",
        "}\n",
        "\n",
        "def shortest_path(graph, source, dest):\n",
        "  result =[]\n",
        "  result.append(source)\n",
        "\n",
        "  while dest not in result:\n",
        "    current_node = result[-1]\n",
        "    local_max = min(graph[current_node].values())\n",
        "\n",
        "    for node, weight in graph[current_node].items():\n",
        "      if weight == local_max:\n",
        "        result.append(node)\n",
        "\n",
        "  return result\n",
        "\n",
        "print(\"Hasil pencarian algoritma greedy:\")\n",
        "print(shortest_path(DAG, 'A', 'F'))"
      ],
      "metadata": {
        "colab": {
          "base_uri": "https://localhost:8080/"
        },
        "id": "tvQuTDUEmHOf",
        "outputId": "2dfbcee8-3346-46bb-dce2-3ecab66d36d2"
      },
      "execution_count": 2,
      "outputs": [
        {
          "output_type": "stream",
          "name": "stdout",
          "text": [
            "Hasil pencarian algoritma greedy:\n",
            "['A', 'C', 'D', 'E', 'F']\n"
          ]
        }
      ]
    },
    {
      "cell_type": "code",
      "source": [
        "from operator import itemgetter,attrgetter\n",
        "w =[3,4,1,7,6,8,9]\n",
        "p =[4,5,2,5,5,6,8,11]\n",
        "item =[[3,4],[4,5],[1,2],[7,5],[6,5],[8,8],[9,11]]\n",
        "\n",
        "i=0\n",
        "while i<len(item):\n",
        "  hasil = item[i][1]/item[i][0]\n",
        "  item[i].append(hasil)\n",
        "  i += 1\n",
        "\n",
        "data = sorted(item,key=itemgetter(2), reverse = True)\n",
        "\n",
        "def knapsack(data,cap,flag):\n",
        "  total=0\n",
        "  tres = \"\"\n",
        "\n",
        "  if(flag==0):\n",
        "    total=0\n",
        "    tres = \"\"\n",
        "\n",
        "    if(flag==0):\n",
        "      dataS = sorted(data,key=itemgetter(flag), reverse = True)\n",
        "      tres=\"Bobot priorotas :\"\n",
        "\n",
        "    elif(flag==1):\n",
        "      dataS =sorted(data, key=itemgetter(flag), reverse= True)\n",
        "      tres=\"Keuntungan prioritas : \"\n",
        "\n",
        "    elif(flag==2):\n",
        "      dataS = sorted(data,key=itemgetter(flag), reverse= True)\n",
        "      tres=\"p prioritas : \"\n",
        "\n",
        "    else:\n",
        "      return \"Error\"\n",
        "\n",
        "    j=0\n",
        "    hasil=0\n",
        "\n",
        "    #print(\"sini\")\n",
        "    cek=0\n",
        "    weight=0\n",
        "    while(j<len(dataS)):\n",
        "\n",
        "      if(cek+dataS[j][0]<=cap):\n",
        "        hasil=hasil+dataS[j][1]\n",
        "        weight=weight+dataS[j][0]\n",
        "        print(dataS[j][0])\n",
        "\n",
        "      cek= weight\n",
        "      j+=1;\n",
        "      \n",
        "      #print(\"here\")\n",
        "    return(\"Optimal dalam \" +str(tres)+str(hasil))\n",
        "\n",
        "print(knapsack(item,20,0))\n",
        "print(knapsack(item,20,1))\n",
        "print(knapsack(item,20,2))"
      ],
      "metadata": {
        "colab": {
          "base_uri": "https://localhost:8080/"
        },
        "id": "i4r32dXdmKBM",
        "outputId": "e61acc88-069e-4061-b459-e019995ba75b"
      },
      "execution_count": 4,
      "outputs": [
        {
          "output_type": "stream",
          "name": "stdout",
          "text": [
            "9\n",
            "8\n",
            "3\n",
            "Optimal dalam Bobot priorotas :23\n",
            "None\n",
            "None\n"
          ]
        }
      ]
    },
    {
      "cell_type": "code",
      "source": [
        "DAG = {\n",
        "    'A' : {'C' : 4, 'G' : 9},\n",
        "    'B' : {'E' : 6},\n",
        "    'C' : {'D' : 6, 'H' : 12},\n",
        "    'D' : {'E' : 7},\n",
        "    'H' : {'F' : 15},\n",
        "    'E' : {'F' : 8},\n",
        "    'F' : {'B' : 5}\n",
        "}\n",
        "\n",
        "def shortest_path(graph, source, dest):\n",
        "  result =[]\n",
        "  result.append(source)\n",
        "\n",
        "  while dest not in result:\n",
        "    current_node = result[-1]\n",
        "    local_max = min(graph[current_node].values())\n",
        "\n",
        "    for node, weight in graph[current_node].items():\n",
        "      if weight == local_max:\n",
        "        result.append(node)\n",
        "\n",
        "  return result\n",
        "\n",
        "print(\"Hasil pencarian algoritma greedy:\")\n",
        "print(shortest_path(DAG, 'A', 'F'))"
      ],
      "metadata": {
        "colab": {
          "base_uri": "https://localhost:8080/"
        },
        "id": "MygUAtOdmMrD",
        "outputId": "c4df2cb9-1447-42ac-885d-c6eb9d8c6c42"
      },
      "execution_count": 3,
      "outputs": [
        {
          "output_type": "stream",
          "name": "stdout",
          "text": [
            "Hasil pencarian algoritma greedy:\n",
            "['A', 'C', 'D', 'E', 'F']\n"
          ]
        }
      ]
    }
  ]
}